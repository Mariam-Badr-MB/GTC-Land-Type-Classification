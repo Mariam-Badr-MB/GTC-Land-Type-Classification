{
 "cells": [
  {
   "cell_type": "markdown",
   "id": "93503949",
   "metadata": {
    "papermill": {
     "duration": 0.006937,
     "end_time": "2023-05-07T13:42:51.871783",
     "exception": false,
     "start_time": "2023-05-07T13:42:51.864846",
     "status": "completed"
    },
    "tags": []
   },
   "source": [
    "# GTC_03_model_training"
   ]
  },
  {
   "cell_type": "markdown",
   "id": "9e9f4908-7946-42dd-a76a-fed17efbb7f6",
   "metadata": {},
   "source": [
    "\n",
    "This notebook handles the model definition, fine-tuning a pre-trained ResNet model, training on the EuroSAT dataset, evaluation, and saving the model."
   ]
  },
  {
   "cell_type": "code",
   "execution_count": 1,
   "id": "46f9c9ad",
   "metadata": {
    "execution": {
     "iopub.execute_input": "2023-05-07T13:42:51.886104Z",
     "iopub.status.busy": "2023-05-07T13:42:51.885514Z",
     "iopub.status.idle": "2023-05-07T13:42:59.766206Z",
     "shell.execute_reply": "2023-05-07T13:42:59.765030Z"
    },
    "papermill": {
     "duration": 7.890949,
     "end_time": "2023-05-07T13:42:59.768868",
     "exception": false,
     "start_time": "2023-05-07T13:42:51.877919",
     "status": "completed"
    },
    "tags": []
   },
   "outputs": [
    {
     "name": "stderr",
     "output_type": "stream",
     "text": [
      "/opt/conda/lib/python3.10/site-packages/scipy/__init__.py:146: UserWarning: A NumPy version >=1.16.5 and <1.23.0 is required for this version of SciPy (detected version 1.23.5\n",
      "  warnings.warn(f\"A NumPy version >={np_minversion} and <{np_maxversion}\"\n"
     ]
    }
   ],
   "source": [
    "import tensorflow as tf\n",
    "from tensorflow import keras\n",
    "from tensorflow.keras import datasets, layers, models\n",
    "from tensorflow.keras.preprocessing.image import ImageDataGenerator\n",
    "import matplotlib.pyplot as plt\n",
    "import numpy as np"
   ]
  },
  {
   "cell_type": "markdown",
   "id": "911bb146",
   "metadata": {
    "papermill": {
     "duration": 0.009075,
     "end_time": "2023-05-07T13:42:59.793084",
     "exception": false,
     "start_time": "2023-05-07T13:42:59.784009",
     "status": "completed"
    },
    "tags": []
   },
   "source": [
    "## load the dataset"
   ]
  },
  {
   "cell_type": "code",
   "execution_count": 2,
   "id": "741f8d4f",
   "metadata": {
    "execution": {
     "iopub.execute_input": "2023-05-07T13:42:59.811398Z",
     "iopub.status.busy": "2023-05-07T13:42:59.810746Z",
     "iopub.status.idle": "2023-05-07T13:43:07.895712Z",
     "shell.execute_reply": "2023-05-07T13:43:07.894635Z"
    },
    "papermill": {
     "duration": 8.096087,
     "end_time": "2023-05-07T13:43:07.898334",
     "exception": false,
     "start_time": "2023-05-07T13:42:59.802247",
     "status": "completed"
    },
    "tags": []
   },
   "outputs": [
    {
     "name": "stdout",
     "output_type": "stream",
     "text": [
      "Found 27000 images belonging to 10 classes.\n"
     ]
    }
   ],
   "source": [
    "data_generator = keras.preprocessing.image.ImageDataGenerator(\n",
    "    rescale=1./255,\n",
    "    shear_range=0.2,\n",
    "    zoom_range=0.2,\n",
    "    validation_split=0.2\n",
    "    \n",
    ")\n",
    "\n",
    "data_path = \"/kaggle/input/eurosat-dataset/EuroSAT\"\n",
    "\n",
    "data = data_generator.flow_from_directory(\n",
    "    data_path,\n",
    "    target_size=(64, 64),\n",
    "    batch_size=32,\n",
    "    class_mode='categorical',\n",
    "    classes=['AnnualCrop', 'Forest', 'HerbaceousVegetation', 'Highway', 'Industrial', 'Pasture', 'PermanentCrop', 'Residential', 'River', 'SeaLake'] \n",
    "\n",
    ")\n"
   ]
  },
  {
   "cell_type": "markdown",
   "id": "b32fdc57-7d0e-41d3-a112-834ed61bb37a",
   "metadata": {},
   "source": [
    "his cell is used for loading and preprocessing the dataset. An ImageDataGenerator is used for data augmentation and normalization. It also defines the path to the dataset and sets up the image flow from the directory.\n",
    "\n"
   ]
  },
  {
   "cell_type": "markdown",
   "id": "6f7d0153",
   "metadata": {
    "papermill": {
     "duration": 0.006368,
     "end_time": "2023-05-07T13:43:07.911307",
     "exception": false,
     "start_time": "2023-05-07T13:43:07.904939",
     "status": "completed"
    },
    "tags": []
   },
   "source": [
    "## Train-test split "
   ]
  },
  {
   "cell_type": "code",
   "execution_count": 3,
   "id": "35eab966",
   "metadata": {
    "execution": {
     "iopub.execute_input": "2023-05-07T13:43:07.926511Z",
     "iopub.status.busy": "2023-05-07T13:43:07.926092Z",
     "iopub.status.idle": "2023-05-07T13:43:11.573341Z",
     "shell.execute_reply": "2023-05-07T13:43:11.572236Z"
    },
    "papermill": {
     "duration": 3.657991,
     "end_time": "2023-05-07T13:43:11.576023",
     "exception": false,
     "start_time": "2023-05-07T13:43:07.918032",
     "status": "completed"
    },
    "tags": []
   },
   "outputs": [
    {
     "name": "stdout",
     "output_type": "stream",
     "text": [
      "Found 21600 images belonging to 10 classes.\n"
     ]
    }
   ],
   "source": [
    "train_data = data_generator.flow_from_directory(\n",
    "    data_path,\n",
    "    target_size=(64, 64),\n",
    "    batch_size=8,\n",
    "    class_mode='categorical',\n",
    "    subset='training',\n",
    "    classes=['AnnualCrop', 'Forest', 'HerbaceousVegetation', 'Highway', 'Industrial', 'Pasture', 'PermanentCrop', 'Residential', 'River', 'SeaLake']\n",
    "\n",
    "    \n",
    "\n",
    ")\n"
   ]
  },
  {
   "cell_type": "code",
   "execution_count": 4,
   "id": "ec02dd01",
   "metadata": {
    "execution": {
     "iopub.execute_input": "2023-05-07T13:43:11.590846Z",
     "iopub.status.busy": "2023-05-07T13:43:11.590478Z",
     "iopub.status.idle": "2023-05-07T13:43:12.003491Z",
     "shell.execute_reply": "2023-05-07T13:43:12.002731Z"
    },
    "papermill": {
     "duration": 0.422953,
     "end_time": "2023-05-07T13:43:12.005571",
     "exception": false,
     "start_time": "2023-05-07T13:43:11.582618",
     "status": "completed"
    },
    "tags": []
   },
   "outputs": [
    {
     "name": "stdout",
     "output_type": "stream",
     "text": [
      "Found 5400 images belonging to 10 classes.\n"
     ]
    }
   ],
   "source": [
    "test_data = data_generator.flow_from_directory(\n",
    "    data_path,\n",
    "    target_size=(64, 64),\n",
    "    batch_size=1,\n",
    "    subset='validation',\n",
    "    class_mode='categorical',\n",
    "    classes=['AnnualCrop', 'Forest', 'HerbaceousVegetation', 'Highway', 'Industrial', 'Pasture', 'PermanentCrop', 'Residential', 'River', 'SeaLake']\n",
    "\n",
    "\n",
    "    \n",
    ")\n"
   ]
  },
  {
   "cell_type": "markdown",
   "id": "20d3a20c-3839-413d-87c9-9b60442a42b8",
   "metadata": {},
   "source": [
    "These two cells split the dataset into training and testing sets. train_data and test_data are created using the ImageDataGenerator with the subset parameter set to 'training' and 'validation' respectively."
   ]
  },
  {
   "cell_type": "markdown",
   "id": "d55fb437",
   "metadata": {
    "papermill": {
     "duration": 0.005838,
     "end_time": "2023-05-07T13:43:12.017533",
     "exception": false,
     "start_time": "2023-05-07T13:43:12.011695",
     "status": "completed"
    },
    "tags": []
   },
   "source": [
    "## Building an ANN model "
   ]
  },
  {
   "cell_type": "code",
   "execution_count": 5,
   "id": "48b9fa62",
   "metadata": {
    "execution": {
     "iopub.execute_input": "2023-05-07T13:43:12.031383Z",
     "iopub.status.busy": "2023-05-07T13:43:12.030990Z",
     "iopub.status.idle": "2023-05-07T14:26:20.876043Z",
     "shell.execute_reply": "2023-05-07T14:26:20.874753Z"
    },
    "papermill": {
     "duration": 2589.697733,
     "end_time": "2023-05-07T14:26:21.721283",
     "exception": false,
     "start_time": "2023-05-07T13:43:12.023550",
     "status": "completed"
    },
    "tags": []
   },
   "outputs": [
    {
     "name": "stdout",
     "output_type": "stream",
     "text": [
      "Epoch 1/5\n",
      "2700/2700 [==============================] - 505s 187ms/step - loss: 1.7379 - accuracy: 0.3475 - val_loss: 1.5740 - val_accuracy: 0.4020\n",
      "Epoch 2/5\n",
      "2700/2700 [==============================] - 455s 169ms/step - loss: 1.5308 - accuracy: 0.4337 - val_loss: 1.4309 - val_accuracy: 0.4846\n",
      "Epoch 3/5\n",
      "2700/2700 [==============================] - 505s 187ms/step - loss: 1.4349 - accuracy: 0.4757 - val_loss: 1.4354 - val_accuracy: 0.4757\n",
      "Epoch 4/5\n",
      "2700/2700 [==============================] - 458s 170ms/step - loss: 1.3738 - accuracy: 0.4987 - val_loss: 1.2944 - val_accuracy: 0.5326\n",
      "Epoch 5/5\n",
      "2700/2700 [==============================] - 460s 170ms/step - loss: 1.3320 - accuracy: 0.5186 - val_loss: 1.4978 - val_accuracy: 0.4656\n"
     ]
    },
    {
     "data": {
      "text/plain": [
       "<keras.callbacks.History at 0x79f75cf22d10>"
      ]
     },
     "execution_count": 5,
     "metadata": {},
     "output_type": "execute_result"
    }
   ],
   "source": [
    "ann = keras.Sequential([\n",
    "        keras.layers.Flatten(input_shape=(64,64,3)),\n",
    "        keras.layers.Dense(3000, activation='relu'),\n",
    "        keras.layers.Dense(1000, activation='relu'),\n",
    "        keras.layers.Dense(10, activation='softmax')    \n",
    "    ])\n",
    "\n",
    "ann.compile(optimizer='SGD',\n",
    "              loss='categorical_crossentropy',\n",
    "              metrics=['accuracy'])\n",
    "\n",
    "ann.fit(train_data,validation_data=test_data, epochs=5)"
   ]
  },
  {
   "cell_type": "markdown",
   "id": "694b661b-b037-4c7c-a488-9808f9fd9f3c",
   "metadata": {},
   "source": [
    "This cell builds and trains the Artificial Neural Network (ANN) model. The model consists of a Flatten layer and two Dense hidden layers with a ReLU activation function, and a final Dense output layer with a softmax activation. The model is compiled using the SGD optimizer and trained for 5 epochs."
   ]
  },
  {
   "cell_type": "code",
   "execution_count": 6,
   "id": "9b623d9f",
   "metadata": {
    "execution": {
     "iopub.execute_input": "2023-05-07T14:26:23.467020Z",
     "iopub.status.busy": "2023-05-07T14:26:23.466557Z",
     "iopub.status.idle": "2023-05-07T14:28:45.450357Z",
     "shell.execute_reply": "2023-05-07T14:28:45.448977Z"
    },
    "papermill": {
     "duration": 143.832313,
     "end_time": "2023-05-07T14:28:46.396662",
     "exception": false,
     "start_time": "2023-05-07T14:26:22.564349",
     "status": "completed"
    },
    "tags": []
   },
   "outputs": [
    {
     "name": "stdout",
     "output_type": "stream",
     "text": [
      "5400/5400 [==============================] - 97s 18ms/step - loss: 1.5009 - accuracy: 0.4628\n"
     ]
    },
    {
     "data": {
      "text/plain": [
       "[1.500859022140503, 0.4627777636051178]"
      ]
     },
     "execution_count": 6,
     "metadata": {},
     "output_type": "execute_result"
    }
   ],
   "source": [
    "ann.evaluate(test_data)\n"
   ]
  },
  {
   "cell_type": "markdown",
   "id": "80dbb857-b4e6-4c91-8b54-8cc8b62f26ac",
   "metadata": {},
   "source": [
    "This cell evaluates the performance of the trained ANN model on the test data."
   ]
  },
  {
   "cell_type": "markdown",
   "id": "483f7140",
   "metadata": {
    "papermill": {
     "duration": 0.941756,
     "end_time": "2023-05-07T14:28:48.362089",
     "exception": false,
     "start_time": "2023-05-07T14:28:47.420333",
     "status": "completed"
    },
    "tags": []
   },
   "source": [
    "## Confusion Matrix for ANN"
   ]
  },
  {
   "cell_type": "code",
   "execution_count": 7,
   "id": "ff85128a",
   "metadata": {
    "execution": {
     "iopub.execute_input": "2023-05-07T14:28:50.320623Z",
     "iopub.status.busy": "2023-05-07T14:28:50.320226Z",
     "iopub.status.idle": "2023-05-07T14:30:40.926552Z",
     "shell.execute_reply": "2023-05-07T14:30:40.925413Z"
    },
    "papermill": {
     "duration": 111.624957,
     "end_time": "2023-05-07T14:30:40.929094",
     "exception": false,
     "start_time": "2023-05-07T14:28:49.304137",
     "status": "completed"
    },
    "tags": []
   },
   "outputs": [
    {
     "name": "stdout",
     "output_type": "stream",
     "text": [
      "5400/5400 [==============================] - 96s 18ms/step\n",
      "Classification Report: \n",
      "               precision    recall  f1-score   support\n",
      "\n",
      "           0       0.57      0.61      0.59       600\n",
      "           1       0.40      0.29      0.34       600\n",
      "           2       0.34      0.56      0.42       600\n",
      "           3       0.35      0.14      0.20       500\n",
      "           4       0.91      0.50      0.64       500\n",
      "           5       0.69      0.29      0.41       400\n",
      "           6       0.48      0.33      0.39       500\n",
      "           7       0.53      0.47      0.50       600\n",
      "           8       0.40      0.59      0.47       500\n",
      "           9       0.44      0.80      0.57       600\n",
      "\n",
      "    accuracy                           0.47      5400\n",
      "   macro avg       0.51      0.46      0.45      5400\n",
      "weighted avg       0.50      0.47      0.46      5400\n",
      "\n"
     ]
    }
   ],
   "source": [
    "from sklearn.metrics import confusion_matrix,classification_report\n",
    "\n",
    "y_true = []\n",
    "for i in range(test_data.samples // test_data.batch_size):\n",
    "    _, batch_labels = test_data.next()\n",
    "    y_true.extend(np.argmax(batch_labels, axis=-1))\n",
    "    \n",
    "# Generating predictions for test data\n",
    "y_probab = ann.predict(test_data, steps=np.ceil(test_data.samples/test_data.batch_size))\n",
    "\n",
    "#Generating predicted classes for test data\n",
    "y_pred = np.argmax(y_probab, axis=-1)\n",
    "\n",
    "#Generating confusion matrix\n",
    "cm = confusion_matrix(y_true, y_pred)\n",
    "print(\"Classification Report: \\n\", classification_report(y_true, y_pred))"
   ]
  },
  {
   "cell_type": "markdown",
   "id": "94f57f24-4d3e-46a0-891a-5107ba467bd6",
   "metadata": {},
   "source": [
    "This cell calculates and prints the confusion matrix and classification report for the ANN model, providing a detailed breakdown of the model's performance for each class."
   ]
  },
  {
   "cell_type": "markdown",
   "id": "b2e594a7",
   "metadata": {
    "papermill": {
     "duration": 1.056343,
     "end_time": "2023-05-07T14:30:43.119370",
     "exception": false,
     "start_time": "2023-05-07T14:30:42.063027",
     "status": "completed"
    },
    "tags": []
   },
   "source": [
    "## plotting the matrix"
   ]
  },
  {
   "cell_type": "code",
   "execution_count": 8,
   "id": "5f59122c",
   "metadata": {
    "collapsed": true,
    "execution": {
     "iopub.execute_input": "2023-05-07T14:30:45.389991Z",
     "iopub.status.busy": "2023-05-07T14:30:45.389623Z",
     "iopub.status.idle": "2023-05-07T14:30:46.101372Z",
     "shell.execute_reply": "2023-05-07T14:30:46.100476Z"
    },
    "jupyter": {
     "outputs_hidden": true
    },
    "papermill": {
     "duration": 1.852975,
     "end_time": "2023-05-07T14:30:46.103581",
     "exception": false,
     "start_time": "2023-05-07T14:30:44.250606",
     "status": "completed"
    },
    "tags": []
   },
   "outputs": [
    {
     "data": {
      "image/png": "[encoded data removed]",
      "text/plain": [
       "<Figure size 640x480 with 2 Axes>"
      ]
     },
     "metadata": {},
     "output_type": "display_data"
    }
   ],
   "source": [
    "#plotting confusion matrix\n",
    "plt.imshow(cm, cmap=plt.cm.Blues)\n",
    "plt.title('Confusion Matrix')\n",
    "plt.colorbar()\n",
    "tick_marks = np.arange(len(data.class_indices))\n",
    "plt.xticks(tick_marks, data.class_indices, rotation=90)\n",
    "plt.yticks(tick_marks, data.class_indices)\n",
    "plt.xlabel('Predicted Label')\n",
    "plt.ylabel('Ground Truth')\n",
    "\n",
    "# adding values in each cell\n",
    "thresh = cm.max() / 2.\n",
    "for i, j in zip(range(cm.shape[0]), range(cm.shape[1])):\n",
    "    plt.text(j, i, format(cm[i, j], 'd'),\n",
    "             horizontalalignment=\"center\",\n",
    "             color=\"white\" if cm[i, j] > thresh else \"black\")\n",
    "\n",
    "plt.show()"
   ]
  },
  {
   "cell_type": "markdown",
   "id": "149f0309",
   "metadata": {
    "papermill": {
     "duration": 1.050911,
     "end_time": "2023-05-07T14:30:50.469260",
     "exception": false,
     "start_time": "2023-05-07T14:30:49.418349",
     "status": "completed"
    },
    "tags": []
   },
   "source": [
    "## Building a CNN model"
   ]
  },
  {
   "cell_type": "code",
   "execution_count": 9,
   "id": "ea54b195",
   "metadata": {
    "execution": {
     "iopub.execute_input": "2023-05-07T14:30:52.652890Z",
     "iopub.status.busy": "2023-05-07T14:30:52.652504Z",
     "iopub.status.idle": "2023-05-07T14:30:52.758153Z",
     "shell.execute_reply": "2023-05-07T14:30:52.756976Z"
    },
    "papermill": {
     "duration": 1.159605,
     "end_time": "2023-05-07T14:30:52.760882",
     "exception": false,
     "start_time": "2023-05-07T14:30:51.601277",
     "status": "completed"
    },
    "tags": []
   },
   "outputs": [],
   "source": [
    "CNN = keras.Sequential([\n",
    "        keras.layers.Conv2D(32, (3, 3), activation='relu', input_shape=(64, 64, 3)),\n",
    "        keras.layers.MaxPooling2D((2, 2)),\n",
    "        keras.layers.Conv2D(64, (3, 3), activation='relu'),\n",
    "        keras.layers.MaxPooling2D((2, 2)),\n",
    "        keras.layers.Conv2D(64, (3, 3), activation='relu'),\n",
    "        keras.layers.Flatten(),\n",
    "        keras.layers.Dense(64, activation='relu'),\n",
    "        keras.layers.Dense(10,activation='softmax')\n",
    "        \n",
    "])"
   ]
  },
  {
   "cell_type": "markdown",
   "id": "119d9f4b-9ec1-4267-b5ae-4716197ef0f9",
   "metadata": {},
   "source": [
    "This cell builds and trains the Convolutional Neural Network (CNN) model. It includes convolutional layers (Conv2D), max-pooling layers (MaxPooling2D), and dense layers. The model is compiled with the Adam optimizer and trained for 10 epochs."
   ]
  },
  {
   "cell_type": "code",
   "execution_count": 10,
   "id": "f118ab9e",
   "metadata": {
    "execution": {
     "iopub.execute_input": "2023-05-07T14:30:54.950571Z",
     "iopub.status.busy": "2023-05-07T14:30:54.950193Z",
     "iopub.status.idle": "2023-05-07T14:30:54.965364Z",
     "shell.execute_reply": "2023-05-07T14:30:54.964582Z"
    },
    "papermill": {
     "duration": 1.070035,
     "end_time": "2023-05-07T14:30:54.967546",
     "exception": false,
     "start_time": "2023-05-07T14:30:53.897511",
     "status": "completed"
    },
    "tags": []
   },
   "outputs": [],
   "source": [
    "CNN.compile(optimizer='adam',\n",
    "              loss='categorical_crossentropy',\n",
    "              metrics=['accuracy'])\n"
   ]
  },
  {
   "cell_type": "code",
   "execution_count": 11,
   "id": "7316d59d",
   "metadata": {
    "execution": {
     "iopub.execute_input": "2023-05-07T14:30:57.251423Z",
     "iopub.status.busy": "2023-05-07T14:30:57.250626Z",
     "iopub.status.idle": "2023-05-07T14:57:29.349483Z",
     "shell.execute_reply": "2023-05-07T14:57:29.348316Z"
    },
    "papermill": {
     "duration": 1595.211656,
     "end_time": "2023-05-07T14:57:31.301592",
     "exception": false,
     "start_time": "2023-05-07T14:30:56.089936",
     "status": "completed"
    },
    "tags": []
   },
   "outputs": [
    {
     "name": "stdout",
     "output_type": "stream",
     "text": [
      "Epoch 1/10\n",
      "2700/2700 [==============================] - 151s 56ms/step - loss: 1.4689 - accuracy: 0.4478 - val_loss: 1.0908 - val_accuracy: 0.5820\n",
      "Epoch 2/10\n",
      "2700/2700 [==============================] - 132s 49ms/step - loss: 0.9077 - accuracy: 0.6713 - val_loss: 0.7386 - val_accuracy: 0.7404\n",
      "Epoch 3/10\n",
      "2700/2700 [==============================] - 148s 55ms/step - loss: 0.7283 - accuracy: 0.7377 - val_loss: 0.7155 - val_accuracy: 0.7357\n",
      "Epoch 4/10\n",
      "2700/2700 [==============================] - 132s 49ms/step - loss: 0.6403 - accuracy: 0.7696 - val_loss: 0.6520 - val_accuracy: 0.7737\n",
      "Epoch 5/10\n",
      "2700/2700 [==============================] - 130s 48ms/step - loss: 0.5755 - accuracy: 0.7933 - val_loss: 0.6487 - val_accuracy: 0.7722\n",
      "Epoch 6/10\n",
      "2700/2700 [==============================] - 131s 48ms/step - loss: 0.5206 - accuracy: 0.8143 - val_loss: 0.6251 - val_accuracy: 0.7763\n",
      "Epoch 7/10\n",
      "2700/2700 [==============================] - 134s 50ms/step - loss: 0.4824 - accuracy: 0.8296 - val_loss: 0.4954 - val_accuracy: 0.8267\n",
      "Epoch 8/10\n",
      "2700/2700 [==============================] - 132s 49ms/step - loss: 0.4440 - accuracy: 0.8416 - val_loss: 0.4954 - val_accuracy: 0.8283\n",
      "Epoch 9/10\n",
      "2700/2700 [==============================] - 148s 55ms/step - loss: 0.4241 - accuracy: 0.8492 - val_loss: 0.6328 - val_accuracy: 0.7848\n",
      "Epoch 10/10\n",
      "2700/2700 [==============================] - 151s 56ms/step - loss: 0.3988 - accuracy: 0.8609 - val_loss: 0.5668 - val_accuracy: 0.8089\n"
     ]
    },
    {
     "data": {
      "text/plain": [
       "<keras.callbacks.History at 0x79f75faab310>"
      ]
     },
     "execution_count": 11,
     "metadata": {},
     "output_type": "execute_result"
    }
   ],
   "source": [
    "CNN.fit(train_data, validation_data=test_data, epochs=10)"
   ]
  },
  {
   "cell_type": "code",
   "execution_count": 12,
   "id": "28d95157",
   "metadata": {
    "execution": {
     "iopub.execute_input": "2023-05-07T14:57:35.428761Z",
     "iopub.status.busy": "2023-05-07T14:57:35.428349Z",
     "iopub.status.idle": "2023-05-07T14:58:02.241995Z",
     "shell.execute_reply": "2023-05-07T14:58:02.240841Z"
    },
    "papermill": {
     "duration": 28.764319,
     "end_time": "2023-05-07T14:58:02.244309",
     "exception": false,
     "start_time": "2023-05-07T14:57:33.479990",
     "status": "completed"
    },
    "tags": []
   },
   "outputs": [
    {
     "name": "stdout",
     "output_type": "stream",
     "text": [
      "5400/5400 [==============================] - 27s 5ms/step - loss: 0.5653 - accuracy: 0.8107\n"
     ]
    },
    {
     "data": {
      "text/plain": [
       "[0.5652816891670227, 0.8107407689094543]"
      ]
     },
     "execution_count": 12,
     "metadata": {},
     "output_type": "execute_result"
    }
   ],
   "source": [
    "CNN.evaluate(test_data)\n",
    " "
   ]
  },
  {
   "cell_type": "markdown",
   "id": "b1b83f9f-aae1-43e6-87e8-2d4fd3fbcd6f",
   "metadata": {},
   "source": [
    "This cell evaluates the performance of the trained CNN model on the test data. Which is 81% accracy, then we conclude that CNN works better than ANN on this data"
   ]
  },
  {
   "cell_type": "markdown",
   "id": "78df51e0",
   "metadata": {
    "papermill": {
     "duration": 1.996515,
     "end_time": "2023-05-07T14:58:06.438523",
     "exception": false,
     "start_time": "2023-05-07T14:58:04.442008",
     "status": "completed"
    },
    "tags": []
   },
   "source": [
    "## Confusion matrix for CNN"
   ]
  },
  {
   "cell_type": "code",
   "execution_count": 13,
   "id": "c1366a58",
   "metadata": {
    "execution": {
     "iopub.execute_input": "2023-05-07T14:58:10.598612Z",
     "iopub.status.busy": "2023-05-07T14:58:10.597792Z",
     "iopub.status.idle": "2023-05-07T14:58:48.792922Z",
     "shell.execute_reply": "2023-05-07T14:58:48.790620Z"
    },
    "papermill": {
     "duration": 40.179749,
     "end_time": "2023-05-07T14:58:48.795549",
     "exception": false,
     "start_time": "2023-05-07T14:58:08.615800",
     "status": "completed"
    },
    "tags": []
   },
   "outputs": [
    {
     "name": "stdout",
     "output_type": "stream",
     "text": [
      "5400/5400 [==============================] - 25s 5ms/step\n",
      "Classification Report: \n",
      "               precision    recall  f1-score   support\n",
      "\n",
      "           0       0.81      0.88      0.84       600\n",
      "           1       0.91      0.94      0.92       600\n",
      "           2       0.74      0.73      0.74       600\n",
      "           3       0.63      0.66      0.64       500\n",
      "           4       0.91      0.91      0.91       500\n",
      "           5       0.69      0.85      0.76       400\n",
      "           6       0.85      0.33      0.48       500\n",
      "           7       0.91      0.96      0.93       600\n",
      "           8       0.71      0.77      0.74       500\n",
      "           9       0.92      0.98      0.95       600\n",
      "\n",
      "    accuracy                           0.81      5400\n",
      "   macro avg       0.81      0.80      0.79      5400\n",
      "weighted avg       0.81      0.81      0.80      5400\n",
      "\n"
     ]
    }
   ],
   "source": [
    "y_true = []\n",
    "for i in range(test_data.samples // test_data.batch_size):\n",
    "    _, batch_labels = test_data.next()\n",
    "    y_true.extend(np.argmax(batch_labels, axis=-1))\n",
    "\n",
    "# Generating predictions for test data\n",
    "y_probab = CNN.predict(test_data, steps=np.ceil(test_data.samples/test_data.batch_size))\n",
    "\n",
    "#Generating predicted classes for test data\n",
    "y_pred = np.argmax(y_probab, axis=-1)\n",
    "\n",
    "#Generating confusion matrix\n",
    "cm = confusion_matrix(y_true, y_pred)\n",
    "print(\"Classification Report: \\n\", classification_report(y_true, y_pred))"
   ]
  },
  {
   "cell_type": "markdown",
   "id": "7de973cd",
   "metadata": {
    "papermill": {
     "duration": 2.205803,
     "end_time": "2023-05-07T14:58:53.007650",
     "exception": false,
     "start_time": "2023-05-07T14:58:50.801847",
     "status": "completed"
    },
    "tags": []
   },
   "source": [
    "## Plotting the matrix"
   ]
  },
  {
   "cell_type": "code",
   "execution_count": 14,
   "id": "55c6c110",
   "metadata": {
    "execution": {
     "iopub.execute_input": "2023-05-07T14:58:57.223353Z",
     "iopub.status.busy": "2023-05-07T14:58:57.222164Z",
     "iopub.status.idle": "2023-05-07T14:58:57.606467Z",
     "shell.execute_reply": "2023-05-07T14:58:57.605584Z"
    },
    "papermill": {
     "duration": 2.597961,
     "end_time": "2023-05-07T14:58:57.608818",
     "exception": false,
     "start_time": "2023-05-07T14:58:55.010857",
     "status": "completed"
    },
    "scrolled": true,
    "tags": []
   },
   "outputs": [
    {
     "data": {
      "image/png": "[encoded data removed]",
      "text/plain": [
       "<Figure size 640x480 with 2 Axes>"
      ]
     },
     "metadata": {},
     "output_type": "display_data"
    }
   ],
   "source": [
    "plt.imshow(cm, cmap=plt.cm.Blues)\n",
    "plt.title('Confusion Matrix')\n",
    "plt.colorbar()\n",
    "tick_marks = np.arange(len(data.class_indices))\n",
    "plt.xticks(tick_marks, data.class_indices, rotation=90)\n",
    "plt.yticks(tick_marks, data.class_indices)\n",
    "plt.xlabel('Predicted Label')\n",
    "plt.ylabel('Ground Truth')\n",
    "\n",
    "#adding values in each cell\n",
    "thresh = cm.max() / 2.\n",
    "for i, j in zip(range(cm.shape[0]), range(cm.shape[1])):\n",
    "    plt.text(j, i, format(cm[i, j], 'd'),\n",
    "             horizontalalignment=\"center\",\n",
    "             color=\"white\" if cm[i, j] > thresh else \"black\")\n",
    "\n",
    "plt.show()"
   ]
  },
  {
   "cell_type": "markdown",
   "id": "bbd024e9",
   "metadata": {
    "papermill": {
     "duration": 1.994156,
     "end_time": "2023-05-07T14:59:01.734214",
     "exception": false,
     "start_time": "2023-05-07T14:58:59.740058",
     "status": "completed"
    },
    "tags": []
   },
   "source": [
    "#### RESULTS:With CNN, at the end 10 epochs, accuracy was at around 80.40% which is a significant improvement over ANN. CNN's are best for image classification and gives better accuracy. Also computation is much less compared to simple ANN as maxpooling reduces the image dimensions while still preserving the features.\n"
   ]
  },
  {
   "cell_type": "code",
   "execution_count": 4,
   "id": "7b14f299-2eb9-4050-b51f-63dfa44caeb5",
   "metadata": {},
   "outputs": [],
   "source": [
    "### saving the model "
   ]
  },
  {
   "cell_type": "code",
   "execution_count": null,
   "id": "40ceff9f-8adf-4c2b-a2d8-b3216fd35e3f",
   "metadata": {},
   "outputs": [],
   "source": [
    "cnn.save('eurosat_cnn_model') "
   ]
  },
  {
   "cell_type": "markdown",
   "id": "6ddd1847-7b41-47bd-b108-03592840efe3",
   "metadata": {},
   "source": [
    "##### u can use the model from : \n",
    "from tensorflow import keras\n",
    "\n",
    "loaded_model = keras.models.load_model('eurosat_cnn_model')\n"
   ]
  },
  {
   "cell_type": "code",
   "execution_count": null,
   "id": "1ad3482d-110e-40b2-a30b-5b7aca07fb84",
   "metadata": {},
   "outputs": [],
   "source": []
  }
 ],
 "metadata": {
  "kernelspec": {
   "display_name": "Python 3 (ipykernel)",
   "language": "python",
   "name": "python3"
  },
  "language_info": {
   "codemirror_mode": {
    "name": "ipython",
    "version": 3
   },
   "file_extension": ".py",
   "mimetype": "text/x-python",
   "name": "python",
   "nbconvert_exporter": "python",
   "pygments_lexer": "ipython3",
   "version": "3.13.1"
  },
  "papermill": {
   "default_parameters": {},
   "duration": 4605.860483,
   "end_time": "2023-05-07T14:59:28.465649",
   "environment_variables": {},
   "exception": null,
   "input_path": "__notebook__.ipynb",
   "output_path": "__notebook__.ipynb",
   "parameters": {},
   "start_time": "2023-05-07T13:42:42.605166",
   "version": "2.4.0"
  }
 },
 "nbformat": 4,
 "nbformat_minor": 5
}
